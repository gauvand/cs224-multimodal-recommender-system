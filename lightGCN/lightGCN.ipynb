{
 "cells": [
  {
   "cell_type": "markdown",
   "metadata": {
    "id": "hau07hxeLW_Q"
   },
   "source": [
    "# LightGCN for Multimodal Music Recommendation\n",
    "By Gaurav Anand, Samantha Liu and Yiwei Ou\n",
    "\n",
    "For the CS224W Fall 2024 Final Project"
   ]
  },
  {
   "cell_type": "code",
   "execution_count": 4,
   "metadata": {
    "id": "vsai3JIelzPR"
   },
   "outputs": [],
   "source": [
    "%%capture\n",
    "import torch\n",
    "# Environment Setup (note that capture silences the console output)\n",
    "torch_version = str(torch.__version__)\n",
    "scatter_src = f\"https://pytorch-geometric.com/whl/torch-{torch_version}.html\"\n",
    "sparse_src = f\"https://pytorch-geometric.com/whl/torch-{torch_version}.html\"\n",
    "!pip install torch-scatter -f $scatter_src\n",
    "!pip install torch-sparse -f $sparse_src\n",
    "!pip install torch-geometric"
   ]
  },
  {
   "cell_type": "code",
   "execution_count": 5,
   "metadata": {
    "id": "Z_ua0VGLPIoe"
   },
   "outputs": [],
   "source": [
    "# Standard library imports\n",
    "import random\n",
    "import time\n",
    "import matplotlib.pyplot as plt\n",
    "import networkx as nx\n",
    "import numpy as np\n",
    "import pandas as pd\n",
    "pd.set_option('display.max_colwidth', None)\n",
    "\n",
    "import torch\n",
    "import torch.nn as nn\n",
    "import torch.nn.functional as F\n",
    "import torch.optim as optim\n",
    "\n",
    "import torch_geometric\n",
    "from torch_geometric.nn.conv import MessagePassing\n",
    "from torch_geometric.utils import degree\n",
    "\n",
    "from tqdm.notebook import tqdm\n",
    "from sklearn import preprocessing as pp\n",
    "from sklearn.model_selection import train_test_split\n",
    "import scipy.sparse as sp"
   ]
  },
  {
   "cell_type": "code",
   "execution_count": 6,
   "metadata": {
    "colab": {
     "base_uri": "https://localhost:8080/"
    },
    "id": "ew6p-UC4Cegj",
    "outputId": "d0fa5e00-e74a-405c-f027-d1e627721c32"
   },
   "outputs": [
    {
     "data": {
      "text/plain": [
       "device(type='cuda', index=0)"
      ]
     },
     "execution_count": 6,
     "metadata": {},
     "output_type": "execute_result"
    }
   ],
   "source": [
    "device = torch.device(\"cuda:0\" if torch.cuda.is_available() else \"cpu\")\n",
    "device"
   ]
  },
  {
   "cell_type": "code",
   "execution_count": null,
   "metadata": {
    "colab": {
     "base_uri": "https://localhost:8080/"
    },
    "id": "y2HoyazAP5aO",
    "outputId": "f48d5c7d-5008-4827-e1b5-af47395fdd32"
   },
   "outputs": [
    {
     "name": "stdout",
     "output_type": "stream",
     "text": [
      "(32685, 4975)\n",
      "(32685, 4975)\n",
      "(101352, 5)\n",
      "(21913, 5)\n",
      "(30196, 6)\n",
      "(146307, 5)\n",
      "2312\n",
      "32685\n",
      "32685\n"
     ]
    }
   ],
   "source": [
    "import os\n",
    "# load listening event data (train, validation, test, and all)\n",
    "data_dir = os.path.normpath('/content/')\n",
    "train_data = pd.read_parquet(os.path.join(data_dir, 'm4a_train.parquet'))\n",
    "val_data = pd.read_parquet(os.path.join(data_dir, 'm4a_val.parquet'))\n",
    "test_data = pd.read_parquet(os.path.join(data_dir, 'm4a_test.parquet'))\n",
    "all_data = pd.read_parquet(os.path.join(data_dir, 'm4a_all.parquet'))\n",
    "\n",
    "# load id maps\n",
    "user_id_map = pd.read_parquet(os.path.join(data_dir, 'm4a_user_mapping.parquet'))\n",
    "user_id_map = {user_id: graph_user_id for _, (user_id, graph_user_id) in user_id_map[['user_id', 'graph_user_id']].iterrows()}\n",
    "track_id_map_data = pd.read_parquet(os.path.join(data_dir, 'm4a_track_mapping.parquet'))\n",
    "track_id_map = {track_id: graph_track_id for _, (track_id, graph_track_id) in track_id_map_data[['track_id', 'graph_track_id']].iterrows()}\n",
    "track_id_map2 = {graph_track_id: track_id for _, (track_id, graph_track_id) in track_id_map_data[['track_id', 'graph_track_id']].iterrows()}\n",
    "\n",
    "# load track features\n",
    "track_features_df = pd.read_parquet('/content/M4A_song features_with img_Final.parquet')\n",
    "print(track_features_df.shape)\n",
    "track_features_df = track_features_df[track_features_df['id'].isin(track_id_map.keys())]\n",
    "print(track_features_df.shape)\n",
    "track_features = track_features_df.set_index('id')[\n",
    "    ['lyrics_embedding', 'danceability', 'energy', 'key', 'popularity', 'valence', 'tempo']\n",
    "].to_dict(orient='index')\n",
    "\n",
    "print(train_data.shape)\n",
    "print(val_data.shape)\n",
    "print(test_data.shape)\n",
    "print(all_data.shape)\n",
    "print(len(user_id_map))\n",
    "print(len(track_id_map))\n",
    "print(len(track_features))"
   ]
  },
  {
   "cell_type": "code",
   "execution_count": 8,
   "metadata": {
    "colab": {
     "base_uri": "https://localhost:8080/"
    },
    "id": "qaRCCNFCc8W6",
    "outputId": "416e1cc9-7465-48a6-e3f6-9e61fdfdc3ea"
   },
   "outputs": [
    {
     "name": "stdout",
     "output_type": "stream",
     "text": [
      "num_users: 2312\n",
      "num_tracks: 32685\n"
     ]
    }
   ],
   "source": [
    "num_users = len(user_id_map)\n",
    "num_tracks = len(track_id_map)\n",
    "print(\"num_users:\", num_users)\n",
    "print(\"num_tracks:\", num_tracks)"
   ]
  },
  {
   "cell_type": "markdown",
   "metadata": {
    "id": "18GltT3qMI1n"
   },
   "source": [
    "For each epoch during training, we sample the data by generating one negative sample for each positive sample. The requirements for the negative sample are as follows:\n",
    "\n",
    "1. The negative track has to have been listened to by some user before its corresponding positive track. In reality, this means that the song has been released before the user's listening timestamp. If no such song exists, we sample from the list of songs that are released in the year before the current listening event.\n",
    "2. The current user should not have interacted with the song.\n",
    "\n",
    "See sampling.py for more details."
   ]
  },
  {
   "cell_type": "code",
   "execution_count": 9,
   "metadata": {
    "id": "m9PDUHxiQGxO"
   },
   "outputs": [],
   "source": [
    "import random as rd\n",
    "from sampling import get_aux_candidates, get_existing_edges, get_sorted_tracks_by_timestamp, sample_negative_edges\n",
    "\n",
    "def data_sampler(data, batch_size, all_data, track_features, track_id_mapping, release_year = 2018):\n",
    "\n",
    "  # requirements\n",
    "  aux_candidates = get_aux_candidates(track_features_df, track_id_mapping, release_year = release_year)\n",
    "  existing_edges = get_existing_edges(all_data)\n",
    "  ts_tracks = get_sorted_tracks_by_timestamp(all_data)\n",
    "\n",
    "  users, pos_items, neg_items = sample_negative_edges(data, ts_tracks, existing_edges, aux_candidates) # for all edges (len(E))\n",
    "  pos_items = list(np.array(pos_items)[:, 1])\n",
    "  neg_items = list(np.array(neg_items)[:, 1])\n",
    "\n",
    "  n_batches = int(len(train_data)/batch_size)\n",
    "  batch_list = []\n",
    "  for i in range(n_batches):\n",
    "      batch_list.append((\n",
    "          users[i*batch_size: (i+1)*batch_size],\n",
    "          pos_items[i*batch_size: (i+1)*batch_size],\n",
    "          neg_items[i*batch_size: (i+1)*batch_size]\n",
    "      ))\n",
    "\n",
    "  return batch_list\n",
    "\n",
    "batches = data_sampler(train_data, 100, all_data = all_data, track_features = track_features, track_id_mapping= track_id_map, release_year = 2018)"
   ]
  },
  {
   "cell_type": "markdown",
   "metadata": {
    "id": "g2ept47LNdlM"
   },
   "source": [
    "Next, we create a tensor for the edge indices of the graph. If (u, i) exists as a listening event, we would add the edges (u->i) and (i->u) to train_edge_index, since the edges are undirected."
   ]
  },
  {
   "cell_type": "code",
   "execution_count": 10,
   "metadata": {
    "colab": {
     "base_uri": "https://localhost:8080/"
    },
    "id": "4H7WzkmkOFfB",
    "outputId": "eba47c52-8ad4-46f1-fdce-342d369c88a9"
   },
   "outputs": [
    {
     "data": {
      "text/plain": [
       "tensor([[32685, 32685, 32685,  ...,   959,  3212, 32075],\n",
       "        [    0,    44,  2059,  ..., 34996, 34996, 34996]], device='cuda:0')"
      ]
     },
     "execution_count": 10,
     "metadata": {},
     "output_type": "execute_result"
    }
   ],
   "source": [
    "# Create undirected edges, where every user_item interaction are added twice\n",
    "u_t = torch.LongTensor(train_data.graph_user_id.values)\n",
    "i_t = torch.LongTensor(train_data.graph_track_id.values)\n",
    "\n",
    "train_edge_index = torch.stack((torch.cat([u_t, i_t]), torch.cat([i_t, u_t])), dim=0).to(device)\n",
    "train_edge_index"
   ]
  },
  {
   "cell_type": "markdown",
   "metadata": {
    "id": "htYCl6VNN9tb"
   },
   "source": [
    "Our LightGCNConv layer is implemented below. It follows the update rule in the lightGCN paper (https://arxiv.org/abs/2002.02126):\n",
    "$$e_{u}^{(k+1)} = \\sum\\limits_{i \\in N_u} \\frac{1}{\\sqrt{|N_u|}\\sqrt{|N_i|}}e^{(k)}_i$$\n",
    "\n",
    "$$e_{i}^{(k+1)} = \\sum\\limits_{u \\in N_i} \\frac{1}{\\sqrt{|N_i|}\\sqrt{|N_u|}}e^{(k)}_u$$\n",
    "where $e_{u}^{(k+1)}$ is the user embedding after the $(k+1)$ update, which uses the embeddings from its neighboring tracks $i \\in N_u$, and vice versa for the tracks."
   ]
  },
  {
   "cell_type": "code",
   "execution_count": 11,
   "metadata": {
    "id": "bG6syfZpkZZE"
   },
   "outputs": [],
   "source": [
    "class LightGCNConv(MessagePassing):\n",
    "  def __init__(self, **kwargs):\n",
    "    super().__init__(aggr='add')\n",
    "\n",
    "  def forward(self, x, edge_index):\n",
    "    # Compute normalization using both vertices of an edge\n",
    "    from_, to_ = edge_index\n",
    "    deg = degree(to_, x.size(0), dtype=x.dtype)\n",
    "    deg_inv_sqrt = deg.pow(-0.5)\n",
    "    deg_inv_sqrt[deg_inv_sqrt == float('inf')] = 0\n",
    "    norm = deg_inv_sqrt[from_] * deg_inv_sqrt[to_]\n",
    "\n",
    "    # Start propagating messages (no update after aggregation)\n",
    "    return self.propagate(edge_index, x=x, norm=norm)\n",
    "\n",
    "  def message(self, x_j, norm):\n",
    "    # each row of x_j is scaled by that row in norm\n",
    "    return norm.view(-1, 1) * x_j"
   ]
  },
  {
   "cell_type": "markdown",
   "metadata": {
    "id": "L9t5wwB0O_QX"
   },
   "source": [
    "We can sanity check this by running the LightGCNConv layer on a simple graph for one iteration, and observe that each vertex received message from its neighbors."
   ]
  },
  {
   "cell_type": "code",
   "execution_count": 12,
   "metadata": {
    "colab": {
     "base_uri": "https://localhost:8080/"
    },
    "id": "ugXSR1xLoCVW",
    "outputId": "ef1e8d38-43a4-4d0d-865d-e79dc83bcec6"
   },
   "outputs": [
    {
     "data": {
      "text/plain": [
       "tensor([[0.0000, 0.0000, 0.7071, 0.5000, 0.0000],\n",
       "        [0.0000, 0.0000, 0.0000, 0.5000, 0.7071],\n",
       "        [0.7071, 0.0000, 0.0000, 0.0000, 0.0000],\n",
       "        [0.5000, 0.5000, 0.0000, 0.0000, 0.0000],\n",
       "        [0.0000, 0.7071, 0.0000, 0.0000, 0.0000]])"
      ]
     },
     "execution_count": 12,
     "metadata": {},
     "output_type": "execute_result"
    }
   ],
   "source": [
    "test_x = torch.Tensor(np.eye(5)) # 5x5 identity matrix\n",
    "# sample graph\n",
    "test_edge_index = torch.LongTensor(np.array([\n",
    "  [0, 0, 1, 1, 2, 3, 3, 4],\n",
    "  [2, 3, 3, 4, 0, 0, 1, 1]\n",
    "]))\n",
    "\n",
    "# each vertex received message from its neighbors\n",
    "LightGCNConv()(test_x, test_edge_index)"
   ]
  },
  {
   "cell_type": "markdown",
   "metadata": {
    "id": "Shjw_YFoPNAF"
   },
   "source": [
    "Next, we build our model using multiple LightGCNConv layers. Our implementation extends LightGCN by having the option of using the multimodal features from the data as initialization for the embeddings. Namely, note how we are using random_dim, lyrics_dim and audio_dim to initialize track embeddings in the `init_parameters` function. We pull lyrics and audio features from the data, conduct dimension reduction and normalization on them, and concatenate them with randomly generated embeddings."
   ]
  },
  {
   "cell_type": "code",
   "execution_count": 13,
   "metadata": {
    "id": "OA6Y_jKTtdTG"
   },
   "outputs": [],
   "source": [
    "from sklearn.decomposition import PCA\n",
    "\n",
    "class LightGCN(nn.Module):\n",
    "  def __init__(self, num_layers, num_users, num_tracks, random_dim, lyrics_dim=0, audio_dim=0):\n",
    "    super().__init__()\n",
    "    self.hidden_dim = random_dim + lyrics_dim + audio_dim\n",
    "    self.embedding = nn.Embedding(num_embeddings=(num_users + num_tracks), embedding_dim = self.hidden_dim)\n",
    "    self.convs = nn.ModuleList(LightGCNConv() for _ in range(num_layers))\n",
    "    self.random_dim = random_dim\n",
    "    self.lyrics_dim = lyrics_dim\n",
    "    self.audio_dim = audio_dim\n",
    "    self.init_parameters()\n",
    "    self.emb0 = self.embedding.weight\n",
    "\n",
    "  def init_parameters(self):\n",
    "    with torch.no_grad():\n",
    "      nn.init.normal_(self.embedding.weight, std=0.1)\n",
    "      track_emb = np.empty((num_tracks, 0))\n",
    "\n",
    "      # random embedding\n",
    "      if self.random_dim > 0:\n",
    "        random_emb = np.random.rand(num_tracks, self.random_dim)\n",
    "        track_emb = np.concatenate((track_emb, random_emb), axis=1)\n",
    "\n",
    "      # lyrics feature embedding\n",
    "      if self.lyrics_dim > 0:\n",
    "        lyrics_emb = np.zeros((num_tracks, 768), )\n",
    "        for graph_track_id in range(num_tracks):\n",
    "          track_id = track_id_map2[graph_track_id]\n",
    "          lyrics_emb[graph_track_id] = track_features[track_id]['lyrics_embedding']\n",
    "        pca = PCA(n_components=self.lyrics_dim)\n",
    "        lyrics_emb = pca.fit_transform(lyrics_emb)\n",
    "        track_emb = np.concatenate((track_emb, lyrics_emb), axis=1)\n",
    "\n",
    "      # audio feature embedding\n",
    "      if self.audio_dim > 0:\n",
    "        audio_emb = np.zeros((num_tracks, 6))\n",
    "        for graph_track_id in range(num_tracks):\n",
    "          track_id = track_id_map2[graph_track_id]\n",
    "          audio_emb[graph_track_id] = np.array([\n",
    "            track_features[track_id]['danceability'],\n",
    "            track_features[track_id]['energy'],\n",
    "            track_features[track_id]['key'],\n",
    "            track_features[track_id]['popularity'],\n",
    "            track_features[track_id]['valence'],\n",
    "            track_features[track_id]['tempo']\n",
    "          ])\n",
    "        # normalize each column\n",
    "        arr_min = audio_emb.min(axis=0)  # Min value for each column\n",
    "        arr_max = audio_emb.max(axis=0)  # Max value for each column\n",
    "        audio_emb = (audio_emb - arr_min) / (arr_max - arr_min)\n",
    "        track_emb = np.concatenate((track_emb, audio_emb), axis=1)\n",
    "\n",
    "      # use final concatenated embedding for the track embeddings\n",
    "      track_emb = torch.Tensor(track_emb)\n",
    "      self.embedding.weight.data[0:num_tracks] = track_emb\n",
    "\n",
    "  def forward(self, edge_index):\n",
    "    x = self.embedding.weight\n",
    "    embs = [x]\n",
    "\n",
    "    for conv in self.convs:\n",
    "      x = conv(x, edge_index)\n",
    "      embs.append(x)\n",
    "    # take the mean of all layers for the out embedding\n",
    "    out = torch.mean(torch.stack(embs, dim=0), dim=0)\n",
    "    return out\n",
    "\n",
    "  def encode_minibatch(self, users, pos_items, neg_items, edge_index):\n",
    "    out = self(edge_index)\n",
    "    return (out[users], out[pos_items], out[neg_items],\n",
    "            self.emb0[users], self.emb0[pos_items], self.emb0[neg_items])"
   ]
  },
  {
   "cell_type": "markdown",
   "metadata": {
    "id": "hpZV3Ix7QKXO"
   },
   "source": [
    "Our training loss is the Baysian Personalized Ranking (BPR) loss, as specified below:\n",
    "$$\n",
    "L_{BPR} = - \\sum^M_{u=1} \\sum_{i \\in N_u} \\sum_{j \\notin N_u} \\ln \\sigma(\\hat{y}_{ui} - \\hat{y}_{uj}) + \\lambda ||E^{(0)}||^2\n",
    "$$\n",
    "\n",
    "where we compare each pair of (positive, negative) samples for each user and use the size of the initial embedding $E^{(0)}$ as the regulization term."
   ]
  },
  {
   "cell_type": "code",
   "execution_count": 14,
   "metadata": {
    "id": "atndZZ3zv-eO"
   },
   "outputs": [],
   "source": [
    "def compute_bpr_loss(users, users_emb, pos_emb, neg_emb, user_emb0, pos_emb0, neg_emb0):\n",
    "  # compute regularization from the initial embeddings\n",
    "  regularizer = (1 / 2) * (\n",
    "    user_emb0.norm().pow(2) +\n",
    "    pos_emb0.norm().pow(2)  +\n",
    "    neg_emb0.norm().pow(2)\n",
    "  ) / float(len(users))\n",
    "\n",
    "  # compute BPR loss from user, positive item, and negative item embeddings\n",
    "  pos_scores = torch.mul(users_emb, pos_emb).sum(dim=1)\n",
    "  neg_scores = torch.mul(users_emb, neg_emb).sum(dim=1)\n",
    "\n",
    "  bpr_loss = torch.mean(F.softplus(neg_scores - pos_scores))\n",
    "\n",
    "  return bpr_loss, regularizer"
   ]
  },
  {
   "cell_type": "markdown",
   "metadata": {
    "id": "E-SeiCUMQ8yW"
   },
   "source": [
    "Our metric is the Mean Reciprocal Rank (MRR). For each positive interaction $i$ in the evaluation dataset, we generate a list of candidates containing both the positive sample and (num_candidates-1) negative samples that the user has not interacted with. Then, the reciprocal rank for that interaction is\n",
    "$$\n",
    "MRR = \\frac{1}{|Q|} \\sum^{|Q|}_{i=1} \\frac{1}{rank_i}\n",
    "$$\n",
    "where $rank_i$ is the rank that our model predicts the positive item to have amongst the candidates."
   ]
  },
  {
   "cell_type": "code",
   "execution_count": 15,
   "metadata": {
    "id": "yO1WgoEDuXJ-"
   },
   "outputs": [],
   "source": [
    "def get_mrr(user_embs, track_embs, num_tracks, test, all_data, test_candidates = None):\n",
    "  relevance_score = torch.matmul(user_embs, torch.transpose(track_embs, 0, 1))\n",
    "\n",
    "  def sample_mrr_candidates(all_pos_tracks, pos_track, num_candidates):\n",
    "    candidates = []\n",
    "    candidates.append(pos_track)\n",
    "    while len(candidates) < num_candidates:\n",
    "      candidate = rd.choice(range(num_tracks))\n",
    "      if candidate not in candidates and candidate not in all_pos_tracks:\n",
    "        candidates.append(candidate)\n",
    "    return candidates\n",
    "\n",
    "  mrr = []\n",
    "\n",
    "  for test_user, group in test.groupby('graph_user_id'):\n",
    "    all_pos_tracks = all_data.loc[all_data['graph_user_id'] == test_user, 'graph_track_id']\n",
    "\n",
    "    for test_track in group['graph_track_id']:\n",
    "      # the first candidate is the positive one\n",
    "      if test_candidates is None:\n",
    "        candidates = sample_mrr_candidates(all_pos_tracks, test_track, num_candidates=20)\n",
    "      else:\n",
    "        candidates = test_candidates[test_track]\n",
    "      user_scores =  relevance_score[test_user-num_tracks, candidates].clone()\n",
    "      # sort the indices by the model predictions\n",
    "      sorted_indices = torch.argsort(user_scores, descending=True)\n",
    "      # get the rank of the positive track (index 0) after sorting\n",
    "      rank = sorted_indices.tolist().index(0) + 1\n",
    "      reciprocal_rank = 1.0 / rank\n",
    "      mrr.append(reciprocal_rank)\n",
    "\n",
    "  return sum(mrr)/len(mrr)"
   ]
  },
  {
   "cell_type": "markdown",
   "metadata": {
    "id": "vA5CI5AsSXVM"
   },
   "source": [
    "We set the hyperparameters for our model below."
   ]
  },
  {
   "cell_type": "code",
   "execution_count": 38,
   "metadata": {
    "id": "EPx8ahiT10yU"
   },
   "outputs": [],
   "source": [
    "random_dim = 64\n",
    "lyrics_dim = 64\n",
    "audio_dim = 0\n",
    "\n",
    "n_layers = 7\n",
    "\n",
    "EPOCHS = 50\n",
    "BATCH_SIZE = 1024\n",
    "DECAY = 0.0001\n",
    "LR = 0.005\n",
    "K = 20"
   ]
  },
  {
   "cell_type": "markdown",
   "metadata": {
    "id": "y1IjSwMFScRn"
   },
   "source": [
    "We use minibatches of the data to train the embedding weights using BPR loss. We also evaluate the model on the validation data and report the MRR."
   ]
  },
  {
   "cell_type": "code",
   "execution_count": 39,
   "metadata": {
    "id": "7q35iMG4-kAL"
   },
   "outputs": [],
   "source": [
    "def train_and_eval(model, optimizer, train, val):\n",
    "\n",
    "  # metrics collected across epocs\n",
    "  train_loss_list = []\n",
    "  val_loss_list = []\n",
    "  mrr_list = []\n",
    "\n",
    "  for epoch in tqdm(range(EPOCHS)):\n",
    "      n_batch = int(len(train_data)/BATCH_SIZE)\n",
    "\n",
    "      # generate batches of positive and negative pairs\n",
    "      batches = data_sampler(train, BATCH_SIZE, all_data, track_features, track_id_map, release_year = 2018)\n",
    "\n",
    "      epoch_loss_list = []\n",
    "\n",
    "      model.train()\n",
    "      for i, (users, pos_items, neg_items) in enumerate(batches):\n",
    "          optimizer.zero_grad()\n",
    "\n",
    "          # generate embeddings for users, positive items, and negative items; emb0 is used for regularization in the loss\n",
    "          users_emb, pos_emb, neg_emb, users_emb0, pos_emb0, neg_emb0 = model.encode_minibatch(users, pos_items, neg_items, train_edge_index)\n",
    "          # calculate loss\n",
    "          bpr_loss, reg_loss = compute_bpr_loss(\n",
    "            users, users_emb, pos_emb, neg_emb, users_emb0, pos_emb0, neg_emb0\n",
    "          )\n",
    "          reg_loss = DECAY * reg_loss\n",
    "          final_loss = bpr_loss + reg_loss\n",
    "          epoch_loss_list.append(final_loss.item())\n",
    "\n",
    "          final_loss.backward()\n",
    "          optimizer.step()\n",
    "\n",
    "      model.eval()\n",
    "      # evaluate the model on validation data\n",
    "      with torch.no_grad():\n",
    "          out = model(train_edge_index)\n",
    "          final_item_emb, final_user_emb = torch.split(out, (num_tracks, num_users))\n",
    "          mrr = get_mrr(final_user_emb, final_item_emb, num_tracks, val, all_data)\n",
    "          print(\"mrr:\", mrr)\n",
    "\n",
    "          # compute val loss similar to the loss calculation for the training data\n",
    "          val_epoch_loss_list = []\n",
    "          val_batches = data_sampler(val, BATCH_SIZE, all_data, track_features, track_id_map, release_year = 2018)\n",
    "          for i, (val_users, val_pos_items, val_neg_items) in enumerate(val_batches):\n",
    "            val_users_emb, val_pos_emb, val_neg_emb, val_users_emb0, val_pos_emb0, val_neg_emb0 = model.encode_minibatch(val_users, val_pos_items, val_neg_items, train_edge_index)\n",
    "            val_bpr_loss, val_reg_loss = compute_bpr_loss(\n",
    "                val_users, val_users_emb, val_pos_emb, val_neg_emb, val_users_emb0, val_pos_emb0, val_neg_emb0\n",
    "            )\n",
    "            val_reg_loss = DECAY * reg_loss\n",
    "            val_final_loss = bpr_loss + reg_loss\n",
    "            val_epoch_loss_list.append(val_final_loss.item())\n",
    "\n",
    "      # collect metrics for each epoch\n",
    "      train_loss_list.append(round(np.mean(epoch_loss_list),4))\n",
    "      val_loss_list.append(round(np.mean(val_epoch_loss_list),4))\n",
    "      mrr_list.append(round(mrr,4))\n",
    "\n",
    "  return (\n",
    "    train_loss_list,\n",
    "    val_loss_list,\n",
    "    mrr_list\n",
    "  )"
   ]
  },
  {
   "cell_type": "markdown",
   "metadata": {
    "id": "nHflYvUjTUOs"
   },
   "source": [
    "Below, we have the framework for comparing different variations of our model, mostly determined by the size of the embeddings in the initialization of LightGCN. Firstly, let's try out the model using no lyrics or audio features."
   ]
  },
  {
   "cell_type": "code",
   "execution_count": 40,
   "metadata": {
    "colab": {
     "base_uri": "https://localhost:8080/"
    },
    "id": "2ygplJJjBjlr",
    "outputId": "a6b524b6-fc2a-417f-91ad-2fa20daf1ddd"
   },
   "outputs": [
    {
     "name": "stdout",
     "output_type": "stream",
     "text": [
      "Size of Learnable Embedding :  [torch.Size([34997, 128])]\n"
     ]
    }
   ],
   "source": [
    "lightGCN_baseline = LightGCN(n_layers, num_users, num_tracks, random_dim=random_dim + lyrics_dim + audio_dim)\n",
    "lightGCN_baseline.to(device)\n",
    "optimizer = optim.Adam(lightGCN_baseline.parameters(), lr=LR)\n",
    "print(\"Size of Learnable Embedding : \", [x.shape for x in list(lightGCN_baseline.parameters())])"
   ]
  },
  {
   "cell_type": "code",
   "execution_count": 41,
   "metadata": {
    "colab": {
     "base_uri": "https://localhost:8080/",
     "height": 917,
     "referenced_widgets": [
      "9780233efb8d496eb06733db834eec60",
      "fca027d5d44c498db12e9e2d00797302",
      "26ef408000194a3baec97f81e3e657a4",
      "bcd1773a681c43658190289cec2d3d9d",
      "ee45ade639f14ec4ae445f4eecae13a6",
      "36d88a0b51da4203aa30857476d11552",
      "6c92256fda7c40e6926924e75204344a",
      "720aa941bdfd472787fcfe53e2bef7a3",
      "67ddd478931f485db6dcbeafaf0b4fa8",
      "a6cde20cd0ba4435a4c6ebecb1ab633f",
      "5e389bc1d7cf41628bcfc4122ca26d80"
     ]
    },
    "id": "gv8NrK0OB9xN",
    "outputId": "c4d9f6ff-2edd-464c-d516-bb30717af2f2"
   },
   "outputs": [
    {
     "data": {
      "application/vnd.jupyter.widget-view+json": {
       "model_id": "9780233efb8d496eb06733db834eec60",
       "version_major": 2,
       "version_minor": 0
      },
      "text/plain": [
       "  0%|          | 0/50 [00:00<?, ?it/s]"
      ]
     },
     "metadata": {},
     "output_type": "display_data"
    },
    {
     "name": "stdout",
     "output_type": "stream",
     "text": [
      "mrr: 0.36020279578476033\n",
      "mrr: 0.350966101683498\n",
      "mrr: 0.37118485165150406\n",
      "mrr: 0.4013693431182668\n",
      "mrr: 0.4529394810688929\n",
      "mrr: 0.4883430446389595\n",
      "mrr: 0.5056051555604801\n",
      "mrr: 0.5193690966823334\n",
      "mrr: 0.5289983513354939\n",
      "mrr: 0.5405711368861307\n",
      "mrr: 0.547546527375178\n",
      "mrr: 0.5546411247268731\n",
      "mrr: 0.5596127518080859\n",
      "mrr: 0.5652464171580395\n",
      "mrr: 0.5695456830575304\n",
      "mrr: 0.5728240538226875\n",
      "mrr: 0.5749832868652915\n",
      "mrr: 0.5791624507157267\n",
      "mrr: 0.5819809244881535\n",
      "mrr: 0.5833440943045153\n",
      "mrr: 0.5824442487264389\n",
      "mrr: 0.5856249836537671\n",
      "mrr: 0.5855627045694585\n",
      "mrr: 0.5868596749250882\n",
      "mrr: 0.5873116652932036\n",
      "mrr: 0.5901516402086159\n",
      "mrr: 0.5895785137253083\n",
      "mrr: 0.5899309236268105\n",
      "mrr: 0.5935980769818509\n",
      "mrr: 0.5927450798241899\n",
      "mrr: 0.5918141614944405\n",
      "mrr: 0.5935763308372763\n",
      "mrr: 0.5931807371981729\n",
      "mrr: 0.5940081750630947\n",
      "mrr: 0.5938253896511885\n",
      "mrr: 0.595136810774159\n",
      "mrr: 0.5953514954898715\n",
      "mrr: 0.5967398564012695\n",
      "mrr: 0.5957312490183237\n",
      "mrr: 0.5937197783999933\n",
      "mrr: 0.5968897952546547\n",
      "mrr: 0.5959324239705094\n",
      "mrr: 0.5963668657896799\n",
      "mrr: 0.5951494797153328\n",
      "mrr: 0.5967530797079299\n",
      "mrr: 0.5965321209899516\n",
      "mrr: 0.5954650016940809\n",
      "mrr: 0.595989817351596\n",
      "mrr: 0.5969817039727404\n",
      "mrr: 0.5949241092365193\n"
     ]
    }
   ],
   "source": [
    "train_loss_base, val_loss_base, mrr_base = train_and_eval(lightGCN_baseline, optimizer, train_data, val_data)"
   ]
  },
  {
   "cell_type": "code",
   "execution_count": 42,
   "metadata": {
    "colab": {
     "base_uri": "https://localhost:8080/",
     "height": 471
    },
    "id": "fo6S6hE6OFfD",
    "outputId": "56a070f8-e283-47c0-c685-4f5634988be6"
   },
   "outputs": [
    {
     "data": {
      "text/plain": [
       "<matplotlib.legend.Legend at 0x7857ed3013c0>"
      ]
     },
     "execution_count": 42,
     "metadata": {},
     "output_type": "execute_result"
    },
    {
     "data": {
      "image/png": "[encoded data removed]",
      "text/plain": [
       "<Figure size 640x480 with 1 Axes>"
      ]
     },
     "metadata": {},
     "output_type": "display_data"
    }
   ],
   "source": [
    "# plot baseline loss\n",
    "epoch_list = [(i+1) for i in range(EPOCHS)]\n",
    "plt.plot(epoch_list, train_loss_base, label='Training Loss')\n",
    "plt.plot(epoch_list, val_loss_base, label='Validation Loss')\n",
    "\n",
    "plt.xlabel('Epoch')\n",
    "plt.ylabel('Loss (baseline)')\n",
    "plt.legend()"
   ]
  },
  {
   "cell_type": "markdown",
   "metadata": {
    "id": "ptqoX9-DkiW6"
   },
   "source": [
    "# LightGCN with lyrics and audio features"
   ]
  },
  {
   "cell_type": "code",
   "execution_count": 43,
   "metadata": {
    "colab": {
     "base_uri": "https://localhost:8080/"
    },
    "id": "hpSlHj7MyBW6",
    "outputId": "b0c04f96-9e60-4739-b5cd-dc8bc026b2c2"
   },
   "outputs": [
    {
     "name": "stdout",
     "output_type": "stream",
     "text": [
      "Size of Learnable Embedding :  [torch.Size([34997, 128])]\n"
     ]
    }
   ],
   "source": [
    "model = LightGCN(n_layers, num_users, num_tracks, random_dim=random_dim, lyrics_dim=lyrics_dim, audio_dim=audio_dim)\n",
    "model.to(device)\n",
    "optimizer = optim.Adam(model.parameters(), lr=LR)\n",
    "print(\"Size of Learnable Embedding : \", [x.shape for x in list(model.parameters())])"
   ]
  },
  {
   "cell_type": "code",
   "execution_count": 44,
   "metadata": {
    "colab": {
     "base_uri": "https://localhost:8080/",
     "height": 917,
     "referenced_widgets": [
      "5ef7ccc6541c46bda9eebc24cd017852",
      "739c5fe4b49445afb63279bb2f28d7aa",
      "345bb7b598c944fcaf5fa35d29a210f1",
      "e1c6caaa3be646e487efdbd85519188e",
      "8f1069166bbc42f3a2557601b9136f6b",
      "0a78bf697b6a4a7996284e12d4c01266",
      "a87995e7c7494264a902ad5836a373d2",
      "6018b03676154dabac174fa0d0fb2b45",
      "8a55ad8b3e3a4d0da003d65316f7a1d1",
      "1788a98e8272472a9a69f23fa4242439",
      "e47cdf012c914fb7924118a08b9e38e5"
     ]
    },
    "collapsed": true,
    "id": "8XAE7LxOyWrF",
    "outputId": "5f4b6b7b-c918-4390-872a-dd3803909d81"
   },
   "outputs": [
    {
     "data": {
      "application/vnd.jupyter.widget-view+json": {
       "model_id": "5ef7ccc6541c46bda9eebc24cd017852",
       "version_major": 2,
       "version_minor": 0
      },
      "text/plain": [
       "  0%|          | 0/50 [00:00<?, ?it/s]"
      ]
     },
     "metadata": {},
     "output_type": "display_data"
    },
    {
     "name": "stdout",
     "output_type": "stream",
     "text": [
      "mrr: 0.46197661868654877\n",
      "mrr: 0.5022280999014946\n",
      "mrr: 0.5251181480832559\n",
      "mrr: 0.5400933253752538\n",
      "mrr: 0.552634556965234\n",
      "mrr: 0.5619960415298385\n",
      "mrr: 0.5686517764804309\n",
      "mrr: 0.5729754344801561\n",
      "mrr: 0.577856286360469\n",
      "mrr: 0.5802785080383356\n",
      "mrr: 0.5815142429478878\n",
      "mrr: 0.5851606594437788\n",
      "mrr: 0.5831358847524297\n",
      "mrr: 0.5883765499573842\n",
      "mrr: 0.5887718555474418\n",
      "mrr: 0.5910963964267332\n",
      "mrr: 0.5926288553859927\n",
      "mrr: 0.5926370341919656\n",
      "mrr: 0.5933459278889056\n",
      "mrr: 0.5939130716999981\n",
      "mrr: 0.596345557592897\n",
      "mrr: 0.5946204142911597\n",
      "mrr: 0.5931216700662324\n",
      "mrr: 0.5968531977798023\n",
      "mrr: 0.5971922259970784\n",
      "mrr: 0.5965681640169858\n",
      "mrr: 0.5987796166921336\n",
      "mrr: 0.5966480859710959\n",
      "mrr: 0.5997843888445878\n",
      "mrr: 0.5996249916354578\n",
      "mrr: 0.6008176504841901\n",
      "mrr: 0.600759361199805\n",
      "mrr: 0.6007266488613203\n",
      "mrr: 0.600671302974553\n",
      "mrr: 0.6011944395522586\n",
      "mrr: 0.6012397337987827\n",
      "mrr: 0.6024840503073244\n",
      "mrr: 0.6001519015525256\n",
      "mrr: 0.6025171329610651\n",
      "mrr: 0.6024994787340902\n",
      "mrr: 0.6000892585030625\n",
      "mrr: 0.6021790705861523\n",
      "mrr: 0.6013877412656085\n",
      "mrr: 0.6029988855631685\n",
      "mrr: 0.60299214490683\n",
      "mrr: 0.6021047989601954\n",
      "mrr: 0.6032300054010783\n",
      "mrr: 0.6026923561405946\n",
      "mrr: 0.6054925487719025\n",
      "mrr: 0.6016242522149571\n"
     ]
    }
   ],
   "source": [
    "train_loss, val_loss, mrr = train_and_eval(model, optimizer, train_data, val_data)"
   ]
  },
  {
   "cell_type": "code",
   "execution_count": 45,
   "metadata": {
    "colab": {
     "base_uri": "https://localhost:8080/",
     "height": 466
    },
    "id": "-GjTZK-cympB",
    "outputId": "7b7abf39-3257-4d34-dd83-933b3e713c76"
   },
   "outputs": [
    {
     "data": {
      "text/plain": [
       "<matplotlib.legend.Legend at 0x78574f46ca30>"
      ]
     },
     "execution_count": 45,
     "metadata": {},
     "output_type": "execute_result"
    },
    {
     "data": {
      "image/png": "[encoded data removed]",
      "text/plain": [
       "<Figure size 640x480 with 1 Axes>"
      ]
     },
     "metadata": {},
     "output_type": "display_data"
    }
   ],
   "source": [
    "# plot our model's loss\n",
    "epoch_list = [(i+1) for i in range(EPOCHS)]\n",
    "plt.plot(epoch_list, train_loss, label='Training Loss')\n",
    "plt.plot(epoch_list, val_loss, label='Validation Loss')\n",
    "\n",
    "plt.xlabel('Epoch')\n",
    "plt.ylabel('Loss')\n",
    "plt.legend()"
   ]
  },
  {
   "cell_type": "markdown",
   "metadata": {
    "id": "_X67meRzkxNu"
   },
   "source": [
    "# Model comparisons"
   ]
  },
  {
   "cell_type": "code",
   "execution_count": 46,
   "metadata": {
    "colab": {
     "base_uri": "https://localhost:8080/",
     "height": 466
    },
    "id": "A6H5B9T5cJ9x",
    "outputId": "b8e812ca-3cde-4c4a-b491-f0ee877391ac"
   },
   "outputs": [
    {
     "data": {
      "text/plain": [
       "<matplotlib.legend.Legend at 0x78574f360280>"
      ]
     },
     "execution_count": 46,
     "metadata": {},
     "output_type": "execute_result"
    },
    {
     "data": {
      "image/png": "[encoded data removed]",
      "text/plain": [
       "<Figure size 640x480 with 1 Axes>"
      ]
     },
     "metadata": {},
     "output_type": "display_data"
    }
   ],
   "source": [
    "# compare mrr between baseline and our model\n",
    "plt.plot(epoch_list, mrr_base, label='MRR (random 134)')\n",
    "plt.plot(epoch_list, mrr, label='MRR (random 64 + lyrics 64 + audio 6)')\n",
    "plt.xlabel('Epoch')\n",
    "plt.ylabel('MRR')\n",
    "plt.legend()"
   ]
  },
  {
   "cell_type": "code",
   "execution_count": 47,
   "metadata": {
    "colab": {
     "base_uri": "https://localhost:8080/"
    },
    "id": "EVi8kDDI6Hs1",
    "outputId": "8ee8aaa6-71a5-4f1e-d3d4-977362f21807"
   },
   "outputs": [
    {
     "name": "stdout",
     "output_type": "stream",
     "text": [
      "val_mrr_base: 0.5949\n",
      "val_mrr: 0.6016\n"
     ]
    }
   ],
   "source": [
    "print('val_mrr_base:', mrr_base[-1])\n",
    "print('val_mrr:', mrr[-1])"
   ]
  },
  {
   "cell_type": "markdown",
   "metadata": {
    "id": "8ibviuETTwTK"
   },
   "source": [
    "We save both model's results for more analysis."
   ]
  },
  {
   "cell_type": "code",
   "execution_count": 48,
   "metadata": {
    "colab": {
     "base_uri": "https://localhost:8080/"
    },
    "id": "MXbZrsEtv2zX",
    "outputId": "7c514850-af66-41be-ce60-73aaa8cfec32"
   },
   "outputs": [
    {
     "name": "stdout",
     "output_type": "stream",
     "text": [
      "base: 0.5607578932902877\n",
      "model: 0.5674406168568437\n"
     ]
    }
   ],
   "source": [
    "import pandas as pd\n",
    "import zipfile\n",
    "import pickle\n",
    "\n",
    "results_folder = '/content'\n",
    "\n",
    "def eval_results(test, model):\n",
    "    model.eval()\n",
    "    test_candidates = {graph_track_id: test_cand_list for _, (graph_track_id, test_cand_list) in test[['graph_track_id', 'test_candidates']].iterrows()}\n",
    "    with torch.no_grad():\n",
    "        out = model(train_edge_index)\n",
    "        final_item_emb, final_user_emb = torch.split(out, (num_tracks, num_users))\n",
    "        mrr = get_mrr(final_user_emb, final_item_emb, num_tracks, test, all_data, test_candidates=test_candidates)\n",
    "    return mrr\n",
    "\n",
    "def get_results(test_res, valid_res_list, valid_loss_list, train_loss_list):\n",
    "    df = pd.DataFrame({\n",
    "        'test_result': [test_res],\n",
    "        'valid_results': [valid_res_list],\n",
    "        'valid_losses': [valid_loss_list],\n",
    "        'train_losses': [train_loss_list]\n",
    "    })\n",
    "    return df\n",
    "\n",
    "def zip_dataframe_and_model(df, model, folder_path, zip_filename):\n",
    "    \"\"\"\n",
    "    Zips a Pandas DataFrame and a model into a specified folder.\n",
    "\n",
    "    Args:\n",
    "        df (pd.DataFrame): The DataFrame to zip.\n",
    "        model: The model object to zip.\n",
    "        folder_path (str): The path to the folder where the zip file will be created.\n",
    "        zip_filename (str): The name of the zip file.\n",
    "    \"\"\"\n",
    "\n",
    "    with zipfile.ZipFile(f\"{folder_path}/{zip_filename}\", 'w') as zipf:\n",
    "        # Save DataFrame to CSV and add to zip\n",
    "        df.to_csv(\"results.csv\", index=False)\n",
    "        zipf.write(\"results.csv\")\n",
    "\n",
    "        # Save model to pickle and add to zip\n",
    "        with open(\"model.pkl\", 'wb') as model_file:\n",
    "            pickle.dump(model, model_file)\n",
    "        zipf.write(\"model.pkl\")\n",
    "\n",
    "test_mrr_base = eval_results(test_data, lightGCN_baseline)\n",
    "print('base:', test_mrr_base)\n",
    "results_df = get_results(test_mrr_base, mrr_base, val_loss_base, train_loss_base)\n",
    "zip_dataframe_and_model(results_df, lightGCN_baseline, folder_path = results_folder, zip_filename = f'lgcn_base_{n_layers}_{random_dim+lyrics_dim+audio_dim}')\n",
    "\n",
    "test_mrr = eval_results(test_data, model)\n",
    "print('model:', test_mrr)\n",
    "results_df = get_results(test_mrr, mrr, val_loss, train_loss)\n",
    "zip_dataframe_and_model(results_df, model, folder_path = results_folder, zip_filename = f'lgcn_{n_layers}_{random_dim}_{lyrics_dim}_{audio_dim}')"
   ]
  }
 ],
 "metadata": {
  "accelerator": "GPU",
  "colab": {
   "gpuType": "T4",
   "machine_shape": "hm",
   "provenance": []
  },
  "kernelspec": {
   "display_name": "Python 3",
   "name": "python3"
  },
  "language_info": {
   "name": "python"
  },
  "widgets": {
   "application/vnd.jupyter.widget-state+json": {
    "0a78bf697b6a4a7996284e12d4c01266": {
     "model_module": "@jupyter-widgets/base",
     "model_module_version": "1.2.0",
     "model_name": "LayoutModel",
     "state": {
      "_model_module": "@jupyter-widgets/base",
      "_model_module_version": "1.2.0",
      "_model_name": "LayoutModel",
      "_view_count": null,
      "_view_module": "@jupyter-widgets/base",
      "_view_module_version": "1.2.0",
      "_view_name": "LayoutView",
      "align_content": null,
      "align_items": null,
      "align_self": null,
      "border": null,
      "bottom": null,
      "display": null,
      "flex": null,
      "flex_flow": null,
      "grid_area": null,
      "grid_auto_columns": null,
      "grid_auto_flow": null,
      "grid_auto_rows": null,
      "grid_column": null,
      "grid_gap": null,
      "grid_row": null,
      "grid_template_areas": null,
      "grid_template_columns": null,
      "grid_template_rows": null,
      "height": null,
      "justify_content": null,
      "justify_items": null,
      "left": null,
      "margin": null,
      "max_height": null,
      "max_width": null,
      "min_height": null,
      "min_width": null,
      "object_fit": null,
      "object_position": null,
      "order": null,
      "overflow": null,
      "overflow_x": null,
      "overflow_y": null,
      "padding": null,
      "right": null,
      "top": null,
      "visibility": null,
      "width": null
     }
    },
    "1788a98e8272472a9a69f23fa4242439": {
     "model_module": "@jupyter-widgets/base",
     "model_module_version": "1.2.0",
     "model_name": "LayoutModel",
     "state": {
      "_model_module": "@jupyter-widgets/base",
      "_model_module_version": "1.2.0",
      "_model_name": "LayoutModel",
      "_view_count": null,
      "_view_module": "@jupyter-widgets/base",
      "_view_module_version": "1.2.0",
      "_view_name": "LayoutView",
      "align_content": null,
      "align_items": null,
      "align_self": null,
      "border": null,
      "bottom": null,
      "display": null,
      "flex": null,
      "flex_flow": null,
      "grid_area": null,
      "grid_auto_columns": null,
      "grid_auto_flow": null,
      "grid_auto_rows": null,
      "grid_column": null,
      "grid_gap": null,
      "grid_row": null,
      "grid_template_areas": null,
      "grid_template_columns": null,
      "grid_template_rows": null,
      "height": null,
      "justify_content": null,
      "justify_items": null,
      "left": null,
      "margin": null,
      "max_height": null,
      "max_width": null,
      "min_height": null,
      "min_width": null,
      "object_fit": null,
      "object_position": null,
      "order": null,
      "overflow": null,
      "overflow_x": null,
      "overflow_y": null,
      "padding": null,
      "right": null,
      "top": null,
      "visibility": null,
      "width": null
     }
    },
    "26ef408000194a3baec97f81e3e657a4": {
     "model_module": "@jupyter-widgets/controls",
     "model_module_version": "1.5.0",
     "model_name": "FloatProgressModel",
     "state": {
      "_dom_classes": [],
      "_model_module": "@jupyter-widgets/controls",
      "_model_module_version": "1.5.0",
      "_model_name": "FloatProgressModel",
      "_view_count": null,
      "_view_module": "@jupyter-widgets/controls",
      "_view_module_version": "1.5.0",
      "_view_name": "ProgressView",
      "bar_style": "success",
      "description": "",
      "description_tooltip": null,
      "layout": "IPY_MODEL_720aa941bdfd472787fcfe53e2bef7a3",
      "max": 50,
      "min": 0,
      "orientation": "horizontal",
      "style": "IPY_MODEL_67ddd478931f485db6dcbeafaf0b4fa8",
      "value": 50
     }
    },
    "345bb7b598c944fcaf5fa35d29a210f1": {
     "model_module": "@jupyter-widgets/controls",
     "model_module_version": "1.5.0",
     "model_name": "FloatProgressModel",
     "state": {
      "_dom_classes": [],
      "_model_module": "@jupyter-widgets/controls",
      "_model_module_version": "1.5.0",
      "_model_name": "FloatProgressModel",
      "_view_count": null,
      "_view_module": "@jupyter-widgets/controls",
      "_view_module_version": "1.5.0",
      "_view_name": "ProgressView",
      "bar_style": "success",
      "description": "",
      "description_tooltip": null,
      "layout": "IPY_MODEL_6018b03676154dabac174fa0d0fb2b45",
      "max": 50,
      "min": 0,
      "orientation": "horizontal",
      "style": "IPY_MODEL_8a55ad8b3e3a4d0da003d65316f7a1d1",
      "value": 50
     }
    },
    "36d88a0b51da4203aa30857476d11552": {
     "model_module": "@jupyter-widgets/base",
     "model_module_version": "1.2.0",
     "model_name": "LayoutModel",
     "state": {
      "_model_module": "@jupyter-widgets/base",
      "_model_module_version": "1.2.0",
      "_model_name": "LayoutModel",
      "_view_count": null,
      "_view_module": "@jupyter-widgets/base",
      "_view_module_version": "1.2.0",
      "_view_name": "LayoutView",
      "align_content": null,
      "align_items": null,
      "align_self": null,
      "border": null,
      "bottom": null,
      "display": null,
      "flex": null,
      "flex_flow": null,
      "grid_area": null,
      "grid_auto_columns": null,
      "grid_auto_flow": null,
      "grid_auto_rows": null,
      "grid_column": null,
      "grid_gap": null,
      "grid_row": null,
      "grid_template_areas": null,
      "grid_template_columns": null,
      "grid_template_rows": null,
      "height": null,
      "justify_content": null,
      "justify_items": null,
      "left": null,
      "margin": null,
      "max_height": null,
      "max_width": null,
      "min_height": null,
      "min_width": null,
      "object_fit": null,
      "object_position": null,
      "order": null,
      "overflow": null,
      "overflow_x": null,
      "overflow_y": null,
      "padding": null,
      "right": null,
      "top": null,
      "visibility": null,
      "width": null
     }
    },
    "5e389bc1d7cf41628bcfc4122ca26d80": {
     "model_module": "@jupyter-widgets/controls",
     "model_module_version": "1.5.0",
     "model_name": "DescriptionStyleModel",
     "state": {
      "_model_module": "@jupyter-widgets/controls",
      "_model_module_version": "1.5.0",
      "_model_name": "DescriptionStyleModel",
      "_view_count": null,
      "_view_module": "@jupyter-widgets/base",
      "_view_module_version": "1.2.0",
      "_view_name": "StyleView",
      "description_width": ""
     }
    },
    "5ef7ccc6541c46bda9eebc24cd017852": {
     "model_module": "@jupyter-widgets/controls",
     "model_module_version": "1.5.0",
     "model_name": "HBoxModel",
     "state": {
      "_dom_classes": [],
      "_model_module": "@jupyter-widgets/controls",
      "_model_module_version": "1.5.0",
      "_model_name": "HBoxModel",
      "_view_count": null,
      "_view_module": "@jupyter-widgets/controls",
      "_view_module_version": "1.5.0",
      "_view_name": "HBoxView",
      "box_style": "",
      "children": [
       "IPY_MODEL_739c5fe4b49445afb63279bb2f28d7aa",
       "IPY_MODEL_345bb7b598c944fcaf5fa35d29a210f1",
       "IPY_MODEL_e1c6caaa3be646e487efdbd85519188e"
      ],
      "layout": "IPY_MODEL_8f1069166bbc42f3a2557601b9136f6b"
     }
    },
    "6018b03676154dabac174fa0d0fb2b45": {
     "model_module": "@jupyter-widgets/base",
     "model_module_version": "1.2.0",
     "model_name": "LayoutModel",
     "state": {
      "_model_module": "@jupyter-widgets/base",
      "_model_module_version": "1.2.0",
      "_model_name": "LayoutModel",
      "_view_count": null,
      "_view_module": "@jupyter-widgets/base",
      "_view_module_version": "1.2.0",
      "_view_name": "LayoutView",
      "align_content": null,
      "align_items": null,
      "align_self": null,
      "border": null,
      "bottom": null,
      "display": null,
      "flex": null,
      "flex_flow": null,
      "grid_area": null,
      "grid_auto_columns": null,
      "grid_auto_flow": null,
      "grid_auto_rows": null,
      "grid_column": null,
      "grid_gap": null,
      "grid_row": null,
      "grid_template_areas": null,
      "grid_template_columns": null,
      "grid_template_rows": null,
      "height": null,
      "justify_content": null,
      "justify_items": null,
      "left": null,
      "margin": null,
      "max_height": null,
      "max_width": null,
      "min_height": null,
      "min_width": null,
      "object_fit": null,
      "object_position": null,
      "order": null,
      "overflow": null,
      "overflow_x": null,
      "overflow_y": null,
      "padding": null,
      "right": null,
      "top": null,
      "visibility": null,
      "width": null
     }
    },
    "67ddd478931f485db6dcbeafaf0b4fa8": {
     "model_module": "@jupyter-widgets/controls",
     "model_module_version": "1.5.0",
     "model_name": "ProgressStyleModel",
     "state": {
      "_model_module": "@jupyter-widgets/controls",
      "_model_module_version": "1.5.0",
      "_model_name": "ProgressStyleModel",
      "_view_count": null,
      "_view_module": "@jupyter-widgets/base",
      "_view_module_version": "1.2.0",
      "_view_name": "StyleView",
      "bar_color": null,
      "description_width": ""
     }
    },
    "6c92256fda7c40e6926924e75204344a": {
     "model_module": "@jupyter-widgets/controls",
     "model_module_version": "1.5.0",
     "model_name": "DescriptionStyleModel",
     "state": {
      "_model_module": "@jupyter-widgets/controls",
      "_model_module_version": "1.5.0",
      "_model_name": "DescriptionStyleModel",
      "_view_count": null,
      "_view_module": "@jupyter-widgets/base",
      "_view_module_version": "1.2.0",
      "_view_name": "StyleView",
      "description_width": ""
     }
    },
    "720aa941bdfd472787fcfe53e2bef7a3": {
     "model_module": "@jupyter-widgets/base",
     "model_module_version": "1.2.0",
     "model_name": "LayoutModel",
     "state": {
      "_model_module": "@jupyter-widgets/base",
      "_model_module_version": "1.2.0",
      "_model_name": "LayoutModel",
      "_view_count": null,
      "_view_module": "@jupyter-widgets/base",
      "_view_module_version": "1.2.0",
      "_view_name": "LayoutView",
      "align_content": null,
      "align_items": null,
      "align_self": null,
      "border": null,
      "bottom": null,
      "display": null,
      "flex": null,
      "flex_flow": null,
      "grid_area": null,
      "grid_auto_columns": null,
      "grid_auto_flow": null,
      "grid_auto_rows": null,
      "grid_column": null,
      "grid_gap": null,
      "grid_row": null,
      "grid_template_areas": null,
      "grid_template_columns": null,
      "grid_template_rows": null,
      "height": null,
      "justify_content": null,
      "justify_items": null,
      "left": null,
      "margin": null,
      "max_height": null,
      "max_width": null,
      "min_height": null,
      "min_width": null,
      "object_fit": null,
      "object_position": null,
      "order": null,
      "overflow": null,
      "overflow_x": null,
      "overflow_y": null,
      "padding": null,
      "right": null,
      "top": null,
      "visibility": null,
      "width": null
     }
    },
    "739c5fe4b49445afb63279bb2f28d7aa": {
     "model_module": "@jupyter-widgets/controls",
     "model_module_version": "1.5.0",
     "model_name": "HTMLModel",
     "state": {
      "_dom_classes": [],
      "_model_module": "@jupyter-widgets/controls",
      "_model_module_version": "1.5.0",
      "_model_name": "HTMLModel",
      "_view_count": null,
      "_view_module": "@jupyter-widgets/controls",
      "_view_module_version": "1.5.0",
      "_view_name": "HTMLView",
      "description": "",
      "description_tooltip": null,
      "layout": "IPY_MODEL_0a78bf697b6a4a7996284e12d4c01266",
      "placeholder": "​",
      "style": "IPY_MODEL_a87995e7c7494264a902ad5836a373d2",
      "value": "100%"
     }
    },
    "8a55ad8b3e3a4d0da003d65316f7a1d1": {
     "model_module": "@jupyter-widgets/controls",
     "model_module_version": "1.5.0",
     "model_name": "ProgressStyleModel",
     "state": {
      "_model_module": "@jupyter-widgets/controls",
      "_model_module_version": "1.5.0",
      "_model_name": "ProgressStyleModel",
      "_view_count": null,
      "_view_module": "@jupyter-widgets/base",
      "_view_module_version": "1.2.0",
      "_view_name": "StyleView",
      "bar_color": null,
      "description_width": ""
     }
    },
    "8f1069166bbc42f3a2557601b9136f6b": {
     "model_module": "@jupyter-widgets/base",
     "model_module_version": "1.2.0",
     "model_name": "LayoutModel",
     "state": {
      "_model_module": "@jupyter-widgets/base",
      "_model_module_version": "1.2.0",
      "_model_name": "LayoutModel",
      "_view_count": null,
      "_view_module": "@jupyter-widgets/base",
      "_view_module_version": "1.2.0",
      "_view_name": "LayoutView",
      "align_content": null,
      "align_items": null,
      "align_self": null,
      "border": null,
      "bottom": null,
      "display": null,
      "flex": null,
      "flex_flow": null,
      "grid_area": null,
      "grid_auto_columns": null,
      "grid_auto_flow": null,
      "grid_auto_rows": null,
      "grid_column": null,
      "grid_gap": null,
      "grid_row": null,
      "grid_template_areas": null,
      "grid_template_columns": null,
      "grid_template_rows": null,
      "height": null,
      "justify_content": null,
      "justify_items": null,
      "left": null,
      "margin": null,
      "max_height": null,
      "max_width": null,
      "min_height": null,
      "min_width": null,
      "object_fit": null,
      "object_position": null,
      "order": null,
      "overflow": null,
      "overflow_x": null,
      "overflow_y": null,
      "padding": null,
      "right": null,
      "top": null,
      "visibility": null,
      "width": null
     }
    },
    "9780233efb8d496eb06733db834eec60": {
     "model_module": "@jupyter-widgets/controls",
     "model_module_version": "1.5.0",
     "model_name": "HBoxModel",
     "state": {
      "_dom_classes": [],
      "_model_module": "@jupyter-widgets/controls",
      "_model_module_version": "1.5.0",
      "_model_name": "HBoxModel",
      "_view_count": null,
      "_view_module": "@jupyter-widgets/controls",
      "_view_module_version": "1.5.0",
      "_view_name": "HBoxView",
      "box_style": "",
      "children": [
       "IPY_MODEL_fca027d5d44c498db12e9e2d00797302",
       "IPY_MODEL_26ef408000194a3baec97f81e3e657a4",
       "IPY_MODEL_bcd1773a681c43658190289cec2d3d9d"
      ],
      "layout": "IPY_MODEL_ee45ade639f14ec4ae445f4eecae13a6"
     }
    },
    "a6cde20cd0ba4435a4c6ebecb1ab633f": {
     "model_module": "@jupyter-widgets/base",
     "model_module_version": "1.2.0",
     "model_name": "LayoutModel",
     "state": {
      "_model_module": "@jupyter-widgets/base",
      "_model_module_version": "1.2.0",
      "_model_name": "LayoutModel",
      "_view_count": null,
      "_view_module": "@jupyter-widgets/base",
      "_view_module_version": "1.2.0",
      "_view_name": "LayoutView",
      "align_content": null,
      "align_items": null,
      "align_self": null,
      "border": null,
      "bottom": null,
      "display": null,
      "flex": null,
      "flex_flow": null,
      "grid_area": null,
      "grid_auto_columns": null,
      "grid_auto_flow": null,
      "grid_auto_rows": null,
      "grid_column": null,
      "grid_gap": null,
      "grid_row": null,
      "grid_template_areas": null,
      "grid_template_columns": null,
      "grid_template_rows": null,
      "height": null,
      "justify_content": null,
      "justify_items": null,
      "left": null,
      "margin": null,
      "max_height": null,
      "max_width": null,
      "min_height": null,
      "min_width": null,
      "object_fit": null,
      "object_position": null,
      "order": null,
      "overflow": null,
      "overflow_x": null,
      "overflow_y": null,
      "padding": null,
      "right": null,
      "top": null,
      "visibility": null,
      "width": null
     }
    },
    "a87995e7c7494264a902ad5836a373d2": {
     "model_module": "@jupyter-widgets/controls",
     "model_module_version": "1.5.0",
     "model_name": "DescriptionStyleModel",
     "state": {
      "_model_module": "@jupyter-widgets/controls",
      "_model_module_version": "1.5.0",
      "_model_name": "DescriptionStyleModel",
      "_view_count": null,
      "_view_module": "@jupyter-widgets/base",
      "_view_module_version": "1.2.0",
      "_view_name": "StyleView",
      "description_width": ""
     }
    },
    "bcd1773a681c43658190289cec2d3d9d": {
     "model_module": "@jupyter-widgets/controls",
     "model_module_version": "1.5.0",
     "model_name": "HTMLModel",
     "state": {
      "_dom_classes": [],
      "_model_module": "@jupyter-widgets/controls",
      "_model_module_version": "1.5.0",
      "_model_name": "HTMLModel",
      "_view_count": null,
      "_view_module": "@jupyter-widgets/controls",
      "_view_module_version": "1.5.0",
      "_view_name": "HTMLView",
      "description": "",
      "description_tooltip": null,
      "layout": "IPY_MODEL_a6cde20cd0ba4435a4c6ebecb1ab633f",
      "placeholder": "​",
      "style": "IPY_MODEL_5e389bc1d7cf41628bcfc4122ca26d80",
      "value": " 50/50 [18:36&lt;00:00, 22.47s/it]"
     }
    },
    "e1c6caaa3be646e487efdbd85519188e": {
     "model_module": "@jupyter-widgets/controls",
     "model_module_version": "1.5.0",
     "model_name": "HTMLModel",
     "state": {
      "_dom_classes": [],
      "_model_module": "@jupyter-widgets/controls",
      "_model_module_version": "1.5.0",
      "_model_name": "HTMLModel",
      "_view_count": null,
      "_view_module": "@jupyter-widgets/controls",
      "_view_module_version": "1.5.0",
      "_view_name": "HTMLView",
      "description": "",
      "description_tooltip": null,
      "layout": "IPY_MODEL_1788a98e8272472a9a69f23fa4242439",
      "placeholder": "​",
      "style": "IPY_MODEL_e47cdf012c914fb7924118a08b9e38e5",
      "value": " 50/50 [18:37&lt;00:00, 22.31s/it]"
     }
    },
    "e47cdf012c914fb7924118a08b9e38e5": {
     "model_module": "@jupyter-widgets/controls",
     "model_module_version": "1.5.0",
     "model_name": "DescriptionStyleModel",
     "state": {
      "_model_module": "@jupyter-widgets/controls",
      "_model_module_version": "1.5.0",
      "_model_name": "DescriptionStyleModel",
      "_view_count": null,
      "_view_module": "@jupyter-widgets/base",
      "_view_module_version": "1.2.0",
      "_view_name": "StyleView",
      "description_width": ""
     }
    },
    "ee45ade639f14ec4ae445f4eecae13a6": {
     "model_module": "@jupyter-widgets/base",
     "model_module_version": "1.2.0",
     "model_name": "LayoutModel",
     "state": {
      "_model_module": "@jupyter-widgets/base",
      "_model_module_version": "1.2.0",
      "_model_name": "LayoutModel",
      "_view_count": null,
      "_view_module": "@jupyter-widgets/base",
      "_view_module_version": "1.2.0",
      "_view_name": "LayoutView",
      "align_content": null,
      "align_items": null,
      "align_self": null,
      "border": null,
      "bottom": null,
      "display": null,
      "flex": null,
      "flex_flow": null,
      "grid_area": null,
      "grid_auto_columns": null,
      "grid_auto_flow": null,
      "grid_auto_rows": null,
      "grid_column": null,
      "grid_gap": null,
      "grid_row": null,
      "grid_template_areas": null,
      "grid_template_columns": null,
      "grid_template_rows": null,
      "height": null,
      "justify_content": null,
      "justify_items": null,
      "left": null,
      "margin": null,
      "max_height": null,
      "max_width": null,
      "min_height": null,
      "min_width": null,
      "object_fit": null,
      "object_position": null,
      "order": null,
      "overflow": null,
      "overflow_x": null,
      "overflow_y": null,
      "padding": null,
      "right": null,
      "top": null,
      "visibility": null,
      "width": null
     }
    },
    "fca027d5d44c498db12e9e2d00797302": {
     "model_module": "@jupyter-widgets/controls",
     "model_module_version": "1.5.0",
     "model_name": "HTMLModel",
     "state": {
      "_dom_classes": [],
      "_model_module": "@jupyter-widgets/controls",
      "_model_module_version": "1.5.0",
      "_model_name": "HTMLModel",
      "_view_count": null,
      "_view_module": "@jupyter-widgets/controls",
      "_view_module_version": "1.5.0",
      "_view_name": "HTMLView",
      "description": "",
      "description_tooltip": null,
      "layout": "IPY_MODEL_36d88a0b51da4203aa30857476d11552",
      "placeholder": "​",
      "style": "IPY_MODEL_6c92256fda7c40e6926924e75204344a",
      "value": "100%"
     }
    }
   }
  }
 },
 "nbformat": 4,
 "nbformat_minor": 0
}
